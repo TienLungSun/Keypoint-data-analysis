{
  "cells": [
    {
      "cell_type": "markdown",
      "metadata": {
        "id": "view-in-github",
        "colab_type": "text"
      },
      "source": [
        "<a href=\"https://colab.research.google.com/github/TienLungSun/Keypoint-data-analysis/blob/main/3.%20Classification_(new).ipynb\" target=\"_parent\"><img src=\"https://colab.research.google.com/assets/colab-badge.svg\" alt=\"Open In Colab\"/></a>"
      ]
    },
    {
      "cell_type": "code",
      "execution_count": 1,
      "metadata": {
        "id": "__UqpfWmZk_M"
      },
      "outputs": [],
      "source": [
        "import numpy as np\n",
        "import pandas as pd\n",
        "from sklearn.model_selection import train_test_split\n",
        "from sklearn.metrics import confusion_matrix\n",
        "import matplotlib.pyplot as plt\n",
        "import datetime\n",
        "import seaborn as sns"
      ]
    },
    {
      "cell_type": "code",
      "source": [
        "import torch\n",
        "import torch.nn as nn\n",
        "import torch.utils.data as Data"
      ],
      "metadata": {
        "id": "TUEwP25sjkmX"
      },
      "execution_count": 2,
      "outputs": []
    },
    {
      "cell_type": "code",
      "execution_count": 3,
      "metadata": {
        "colab": {
          "base_uri": "https://localhost:8080/"
        },
        "id": "ABW0dcklZddi",
        "outputId": "c2b6e707-0071-4df8-8266-301d7b2d96cb"
      },
      "outputs": [
        {
          "output_type": "stream",
          "name": "stdout",
          "text": [
            "cuda Tesla T4\n"
          ]
        }
      ],
      "source": [
        "if(torch.cuda.is_available()):\n",
        "    device = torch.device(\"cuda\")\n",
        "    print(device, torch.cuda.get_device_name(0))\n",
        "else:\n",
        "    device= torch.device(\"cpu\")\n",
        "    print(device)"
      ]
    },
    {
      "cell_type": "markdown",
      "metadata": {
        "id": "qAxCs8kejgjS"
      },
      "source": [
        "# Upload excel data file to Colab\n",
        "# Read data file to dataframe --> convert to numpy array"
      ]
    },
    {
      "cell_type": "code",
      "execution_count": 4,
      "metadata": {
        "colab": {
          "base_uri": "https://localhost:8080/",
          "height": 163
        },
        "id": "tPoP01sEqi2p",
        "outputId": "917a82aa-7224-4c75-bec5-3748b3bb0b84"
      },
      "outputs": [
        {
          "output_type": "execute_result",
          "data": {
            "text/plain": [
              "   Feature_1  Feature_2  Feature_3  Feature_4  Feature_5  Feature_6  \\\n",
              "0      14.23       1.71       2.43       15.6        127       2.80   \n",
              "1      13.20       1.78       2.14       11.2        100       2.65   \n",
              "2      13.16       2.36       2.67       18.6        101       2.80   \n",
              "\n",
              "   Feature_7  Feature_8  Feature_9  Feature_10  Feature_11  Feature_12  \\\n",
              "0       3.06       0.28       2.29        5.64        1.04        3.92   \n",
              "1       2.76       0.26       1.28        4.38        1.05        3.40   \n",
              "2       3.24       0.30       2.81        5.68        1.03        3.17   \n",
              "\n",
              "   Feature_13  Target  \n",
              "0        1065       0  \n",
              "1        1050       0  \n",
              "2        1185       0  "
            ],
            "text/html": [
              "\n",
              "  <div id=\"df-f0477224-71d2-4a6d-80a6-c3c3a85cf996\" class=\"colab-df-container\">\n",
              "    <div>\n",
              "<style scoped>\n",
              "    .dataframe tbody tr th:only-of-type {\n",
              "        vertical-align: middle;\n",
              "    }\n",
              "\n",
              "    .dataframe tbody tr th {\n",
              "        vertical-align: top;\n",
              "    }\n",
              "\n",
              "    .dataframe thead th {\n",
              "        text-align: right;\n",
              "    }\n",
              "</style>\n",
              "<table border=\"1\" class=\"dataframe\">\n",
              "  <thead>\n",
              "    <tr style=\"text-align: right;\">\n",
              "      <th></th>\n",
              "      <th>Feature_1</th>\n",
              "      <th>Feature_2</th>\n",
              "      <th>Feature_3</th>\n",
              "      <th>Feature_4</th>\n",
              "      <th>Feature_5</th>\n",
              "      <th>Feature_6</th>\n",
              "      <th>Feature_7</th>\n",
              "      <th>Feature_8</th>\n",
              "      <th>Feature_9</th>\n",
              "      <th>Feature_10</th>\n",
              "      <th>Feature_11</th>\n",
              "      <th>Feature_12</th>\n",
              "      <th>Feature_13</th>\n",
              "      <th>Target</th>\n",
              "    </tr>\n",
              "  </thead>\n",
              "  <tbody>\n",
              "    <tr>\n",
              "      <th>0</th>\n",
              "      <td>14.23</td>\n",
              "      <td>1.71</td>\n",
              "      <td>2.43</td>\n",
              "      <td>15.6</td>\n",
              "      <td>127</td>\n",
              "      <td>2.80</td>\n",
              "      <td>3.06</td>\n",
              "      <td>0.28</td>\n",
              "      <td>2.29</td>\n",
              "      <td>5.64</td>\n",
              "      <td>1.04</td>\n",
              "      <td>3.92</td>\n",
              "      <td>1065</td>\n",
              "      <td>0</td>\n",
              "    </tr>\n",
              "    <tr>\n",
              "      <th>1</th>\n",
              "      <td>13.20</td>\n",
              "      <td>1.78</td>\n",
              "      <td>2.14</td>\n",
              "      <td>11.2</td>\n",
              "      <td>100</td>\n",
              "      <td>2.65</td>\n",
              "      <td>2.76</td>\n",
              "      <td>0.26</td>\n",
              "      <td>1.28</td>\n",
              "      <td>4.38</td>\n",
              "      <td>1.05</td>\n",
              "      <td>3.40</td>\n",
              "      <td>1050</td>\n",
              "      <td>0</td>\n",
              "    </tr>\n",
              "    <tr>\n",
              "      <th>2</th>\n",
              "      <td>13.16</td>\n",
              "      <td>2.36</td>\n",
              "      <td>2.67</td>\n",
              "      <td>18.6</td>\n",
              "      <td>101</td>\n",
              "      <td>2.80</td>\n",
              "      <td>3.24</td>\n",
              "      <td>0.30</td>\n",
              "      <td>2.81</td>\n",
              "      <td>5.68</td>\n",
              "      <td>1.03</td>\n",
              "      <td>3.17</td>\n",
              "      <td>1185</td>\n",
              "      <td>0</td>\n",
              "    </tr>\n",
              "  </tbody>\n",
              "</table>\n",
              "</div>\n",
              "    <div class=\"colab-df-buttons\">\n",
              "\n",
              "  <div class=\"colab-df-container\">\n",
              "    <button class=\"colab-df-convert\" onclick=\"convertToInteractive('df-f0477224-71d2-4a6d-80a6-c3c3a85cf996')\"\n",
              "            title=\"Convert this dataframe to an interactive table.\"\n",
              "            style=\"display:none;\">\n",
              "\n",
              "  <svg xmlns=\"http://www.w3.org/2000/svg\" height=\"24px\" viewBox=\"0 -960 960 960\">\n",
              "    <path d=\"M120-120v-720h720v720H120Zm60-500h600v-160H180v160Zm220 220h160v-160H400v160Zm0 220h160v-160H400v160ZM180-400h160v-160H180v160Zm440 0h160v-160H620v160ZM180-180h160v-160H180v160Zm440 0h160v-160H620v160Z\"/>\n",
              "  </svg>\n",
              "    </button>\n",
              "\n",
              "  <style>\n",
              "    .colab-df-container {\n",
              "      display:flex;\n",
              "      gap: 12px;\n",
              "    }\n",
              "\n",
              "    .colab-df-convert {\n",
              "      background-color: #E8F0FE;\n",
              "      border: none;\n",
              "      border-radius: 50%;\n",
              "      cursor: pointer;\n",
              "      display: none;\n",
              "      fill: #1967D2;\n",
              "      height: 32px;\n",
              "      padding: 0 0 0 0;\n",
              "      width: 32px;\n",
              "    }\n",
              "\n",
              "    .colab-df-convert:hover {\n",
              "      background-color: #E2EBFA;\n",
              "      box-shadow: 0px 1px 2px rgba(60, 64, 67, 0.3), 0px 1px 3px 1px rgba(60, 64, 67, 0.15);\n",
              "      fill: #174EA6;\n",
              "    }\n",
              "\n",
              "    .colab-df-buttons div {\n",
              "      margin-bottom: 4px;\n",
              "    }\n",
              "\n",
              "    [theme=dark] .colab-df-convert {\n",
              "      background-color: #3B4455;\n",
              "      fill: #D2E3FC;\n",
              "    }\n",
              "\n",
              "    [theme=dark] .colab-df-convert:hover {\n",
              "      background-color: #434B5C;\n",
              "      box-shadow: 0px 1px 3px 1px rgba(0, 0, 0, 0.15);\n",
              "      filter: drop-shadow(0px 1px 2px rgba(0, 0, 0, 0.3));\n",
              "      fill: #FFFFFF;\n",
              "    }\n",
              "  </style>\n",
              "\n",
              "    <script>\n",
              "      const buttonEl =\n",
              "        document.querySelector('#df-f0477224-71d2-4a6d-80a6-c3c3a85cf996 button.colab-df-convert');\n",
              "      buttonEl.style.display =\n",
              "        google.colab.kernel.accessAllowed ? 'block' : 'none';\n",
              "\n",
              "      async function convertToInteractive(key) {\n",
              "        const element = document.querySelector('#df-f0477224-71d2-4a6d-80a6-c3c3a85cf996');\n",
              "        const dataTable =\n",
              "          await google.colab.kernel.invokeFunction('convertToInteractive',\n",
              "                                                    [key], {});\n",
              "        if (!dataTable) return;\n",
              "\n",
              "        const docLinkHtml = 'Like what you see? Visit the ' +\n",
              "          '<a target=\"_blank\" href=https://colab.research.google.com/notebooks/data_table.ipynb>data table notebook</a>'\n",
              "          + ' to learn more about interactive tables.';\n",
              "        element.innerHTML = '';\n",
              "        dataTable['output_type'] = 'display_data';\n",
              "        await google.colab.output.renderOutput(dataTable, element);\n",
              "        const docLink = document.createElement('div');\n",
              "        docLink.innerHTML = docLinkHtml;\n",
              "        element.appendChild(docLink);\n",
              "      }\n",
              "    </script>\n",
              "  </div>\n",
              "\n",
              "\n",
              "<div id=\"df-508f345b-4b65-4cba-8885-da0bb409d247\">\n",
              "  <button class=\"colab-df-quickchart\" onclick=\"quickchart('df-508f345b-4b65-4cba-8885-da0bb409d247')\"\n",
              "            title=\"Suggest charts\"\n",
              "            style=\"display:none;\">\n",
              "\n",
              "<svg xmlns=\"http://www.w3.org/2000/svg\" height=\"24px\"viewBox=\"0 0 24 24\"\n",
              "     width=\"24px\">\n",
              "    <g>\n",
              "        <path d=\"M19 3H5c-1.1 0-2 .9-2 2v14c0 1.1.9 2 2 2h14c1.1 0 2-.9 2-2V5c0-1.1-.9-2-2-2zM9 17H7v-7h2v7zm4 0h-2V7h2v10zm4 0h-2v-4h2v4z\"/>\n",
              "    </g>\n",
              "</svg>\n",
              "  </button>\n",
              "\n",
              "<style>\n",
              "  .colab-df-quickchart {\n",
              "      --bg-color: #E8F0FE;\n",
              "      --fill-color: #1967D2;\n",
              "      --hover-bg-color: #E2EBFA;\n",
              "      --hover-fill-color: #174EA6;\n",
              "      --disabled-fill-color: #AAA;\n",
              "      --disabled-bg-color: #DDD;\n",
              "  }\n",
              "\n",
              "  [theme=dark] .colab-df-quickchart {\n",
              "      --bg-color: #3B4455;\n",
              "      --fill-color: #D2E3FC;\n",
              "      --hover-bg-color: #434B5C;\n",
              "      --hover-fill-color: #FFFFFF;\n",
              "      --disabled-bg-color: #3B4455;\n",
              "      --disabled-fill-color: #666;\n",
              "  }\n",
              "\n",
              "  .colab-df-quickchart {\n",
              "    background-color: var(--bg-color);\n",
              "    border: none;\n",
              "    border-radius: 50%;\n",
              "    cursor: pointer;\n",
              "    display: none;\n",
              "    fill: var(--fill-color);\n",
              "    height: 32px;\n",
              "    padding: 0;\n",
              "    width: 32px;\n",
              "  }\n",
              "\n",
              "  .colab-df-quickchart:hover {\n",
              "    background-color: var(--hover-bg-color);\n",
              "    box-shadow: 0 1px 2px rgba(60, 64, 67, 0.3), 0 1px 3px 1px rgba(60, 64, 67, 0.15);\n",
              "    fill: var(--button-hover-fill-color);\n",
              "  }\n",
              "\n",
              "  .colab-df-quickchart-complete:disabled,\n",
              "  .colab-df-quickchart-complete:disabled:hover {\n",
              "    background-color: var(--disabled-bg-color);\n",
              "    fill: var(--disabled-fill-color);\n",
              "    box-shadow: none;\n",
              "  }\n",
              "\n",
              "  .colab-df-spinner {\n",
              "    border: 2px solid var(--fill-color);\n",
              "    border-color: transparent;\n",
              "    border-bottom-color: var(--fill-color);\n",
              "    animation:\n",
              "      spin 1s steps(1) infinite;\n",
              "  }\n",
              "\n",
              "  @keyframes spin {\n",
              "    0% {\n",
              "      border-color: transparent;\n",
              "      border-bottom-color: var(--fill-color);\n",
              "      border-left-color: var(--fill-color);\n",
              "    }\n",
              "    20% {\n",
              "      border-color: transparent;\n",
              "      border-left-color: var(--fill-color);\n",
              "      border-top-color: var(--fill-color);\n",
              "    }\n",
              "    30% {\n",
              "      border-color: transparent;\n",
              "      border-left-color: var(--fill-color);\n",
              "      border-top-color: var(--fill-color);\n",
              "      border-right-color: var(--fill-color);\n",
              "    }\n",
              "    40% {\n",
              "      border-color: transparent;\n",
              "      border-right-color: var(--fill-color);\n",
              "      border-top-color: var(--fill-color);\n",
              "    }\n",
              "    60% {\n",
              "      border-color: transparent;\n",
              "      border-right-color: var(--fill-color);\n",
              "    }\n",
              "    80% {\n",
              "      border-color: transparent;\n",
              "      border-right-color: var(--fill-color);\n",
              "      border-bottom-color: var(--fill-color);\n",
              "    }\n",
              "    90% {\n",
              "      border-color: transparent;\n",
              "      border-bottom-color: var(--fill-color);\n",
              "    }\n",
              "  }\n",
              "</style>\n",
              "\n",
              "  <script>\n",
              "    async function quickchart(key) {\n",
              "      const quickchartButtonEl =\n",
              "        document.querySelector('#' + key + ' button');\n",
              "      quickchartButtonEl.disabled = true;  // To prevent multiple clicks.\n",
              "      quickchartButtonEl.classList.add('colab-df-spinner');\n",
              "      try {\n",
              "        const charts = await google.colab.kernel.invokeFunction(\n",
              "            'suggestCharts', [key], {});\n",
              "      } catch (error) {\n",
              "        console.error('Error during call to suggestCharts:', error);\n",
              "      }\n",
              "      quickchartButtonEl.classList.remove('colab-df-spinner');\n",
              "      quickchartButtonEl.classList.add('colab-df-quickchart-complete');\n",
              "    }\n",
              "    (() => {\n",
              "      let quickchartButtonEl =\n",
              "        document.querySelector('#df-508f345b-4b65-4cba-8885-da0bb409d247 button');\n",
              "      quickchartButtonEl.style.display =\n",
              "        google.colab.kernel.accessAllowed ? 'block' : 'none';\n",
              "    })();\n",
              "  </script>\n",
              "</div>\n",
              "    </div>\n",
              "  </div>\n"
            ]
          },
          "metadata": {},
          "execution_count": 4
        }
      ],
      "source": [
        "fname = \"wine_dataset_classification_practice.xlsx\"\n",
        "df=pd.read_excel(fname)\n",
        "df.head(3)"
      ]
    },
    {
      "cell_type": "code",
      "execution_count": 5,
      "metadata": {
        "colab": {
          "base_uri": "https://localhost:8080/"
        },
        "id": "6f5J7g26-3GK",
        "outputId": "bdcdff6e-613e-44e3-cdb0-eafa59ad8ba7"
      },
      "outputs": [
        {
          "output_type": "execute_result",
          "data": {
            "text/plain": [
              "Index(['Feature_1', 'Feature_2', 'Feature_3', 'Feature_4', 'Feature_5',\n",
              "       'Feature_6', 'Feature_7', 'Feature_8', 'Feature_9', 'Feature_10',\n",
              "       'Feature_11', 'Feature_12', 'Feature_13', 'Target'],\n",
              "      dtype='object')"
            ]
          },
          "metadata": {},
          "execution_count": 5
        }
      ],
      "source": [
        "df.columns"
      ]
    },
    {
      "cell_type": "code",
      "execution_count": 6,
      "metadata": {
        "id": "SXs5l856-3Jf"
      },
      "outputs": [],
      "source": [
        "dfX = df[['Feature_1', 'Feature_2', 'Feature_3', 'Feature_4', 'Feature_5',\n",
        "       'Feature_6', 'Feature_7', 'Feature_8', 'Feature_9', 'Feature_10',\n",
        "       'Feature_11', 'Feature_12', 'Feature_13']]\n",
        "dfY = df['Target']"
      ]
    },
    {
      "cell_type": "code",
      "execution_count": 7,
      "metadata": {
        "colab": {
          "base_uri": "https://localhost:8080/"
        },
        "id": "uZurYc6p-3NK",
        "outputId": "91ea1108-a200-4ced-801b-aef5b44fef33"
      },
      "outputs": [
        {
          "output_type": "stream",
          "name": "stdout",
          "text": [
            "(178, 13) (178,)\n"
          ]
        }
      ],
      "source": [
        "#convert data to numpy array\n",
        "numpyX = np.array(dfX.values)\n",
        "numpyY = np.array(dfY.values)\n",
        "print(numpyX.shape, numpyY.shape)"
      ]
    },
    {
      "cell_type": "markdown",
      "metadata": {
        "id": "_E4EzPvy_ERK"
      },
      "source": [
        "### Split input data to train and test data"
      ]
    },
    {
      "cell_type": "code",
      "execution_count": 8,
      "metadata": {
        "colab": {
          "base_uri": "https://localhost:8080/"
        },
        "id": "5z2hMCAG_DgX",
        "outputId": "2a9919f8-81c9-4033-afb0-31229f7ca4fd"
      },
      "outputs": [
        {
          "output_type": "stream",
          "name": "stdout",
          "text": [
            "(142, 13) (36, 13) (142,) (36,)\n"
          ]
        }
      ],
      "source": [
        "trainX, testX, trainY, testY = train_test_split(numpyX, numpyY, test_size=0.20, random_state=0)\n",
        "print(trainX.shape, testX.shape, trainY.shape, testY.shape)"
      ]
    },
    {
      "cell_type": "markdown",
      "metadata": {
        "id": "86h5UOo6pLTc"
      },
      "source": [
        "### Define NN"
      ]
    },
    {
      "cell_type": "code",
      "execution_count": 10,
      "metadata": {
        "colab": {
          "base_uri": "https://localhost:8080/"
        },
        "id": "tZfGzjhKo7hU",
        "outputId": "61a2e41d-4b8e-4573-ced7-50e095c475a0"
      },
      "outputs": [
        {
          "output_type": "execute_result",
          "data": {
            "text/plain": [
              "Sequential(\n",
              "  (0): Linear(in_features=13, out_features=128, bias=True)\n",
              "  (1): Tanh()\n",
              "  (2): Dropout(p=0.5, inplace=False)\n",
              "  (3): Linear(in_features=128, out_features=56, bias=True)\n",
              "  (4): Tanh()\n",
              "  (5): Dropout(p=0.5, inplace=False)\n",
              "  (6): Linear(in_features=56, out_features=3, bias=True)\n",
              ")"
            ]
          },
          "metadata": {},
          "execution_count": 10
        }
      ],
      "source": [
        "MyNet = nn.Sequential(\n",
        "    nn.Linear(13, 128),\n",
        "    nn.Tanh(),\n",
        "    nn.Dropout(p=0.5),\n",
        "    nn.Linear(128, 56),\n",
        "    nn.Tanh(),\n",
        "    nn.Dropout(p=0.5),\n",
        "    nn.Linear(56, 3),\n",
        ")\n",
        "MyNet.to(device)"
      ]
    },
    {
      "cell_type": "markdown",
      "metadata": {
        "id": "Z6k46RM6YKls"
      },
      "source": [
        "# Train NN"
      ]
    },
    {
      "cell_type": "code",
      "execution_count": 11,
      "metadata": {
        "id": "RzfmKFAejgjZ"
      },
      "outputs": [],
      "source": [
        "train_lossLst = []\n",
        "validation_lossLst = []"
      ]
    },
    {
      "cell_type": "code",
      "execution_count": 13,
      "metadata": {
        "colab": {
          "base_uri": "https://localhost:8080/"
        },
        "id": "f1pO6gxNjgjZ",
        "outputId": "ea476596-f06e-4284-d8dd-3043e2c4f198"
      },
      "outputs": [
        {
          "output_type": "stream",
          "name": "stdout",
          "text": [
            "torch.Size([90, 13]) torch.Size([90]) torch.Size([23, 13]) torch.Size([23])\n"
          ]
        }
      ],
      "source": [
        "# split training data to train and validation\n",
        "trainX, validationX, trainY, validationY = train_test_split(trainX, trainY, test_size=0.20, random_state=0)\n",
        "tensor_trainX = torch.FloatTensor(trainX).to(device)\n",
        "tensor_trainY = torch.LongTensor(trainY).to(device)\n",
        "\n",
        "tensor_validationX = torch.FloatTensor(validationX).to(device)\n",
        "tensor_validationY = torch.LongTensor(validationY).to(device)\n",
        "\n",
        "print(tensor_trainX.shape, tensor_trainY.shape, tensor_validationX.shape, tensor_validationY.shape)"
      ]
    },
    {
      "cell_type": "code",
      "execution_count": 14,
      "metadata": {
        "id": "kw6QuU_gjgja"
      },
      "outputs": [],
      "source": [
        "# Generate mini-batches of training data\n",
        "BATCH_SIZE = 16   #try 1/5, 1/10, 1/15 of the training data\n",
        "torch_dataset = Data.TensorDataset(tensor_trainX, tensor_trainY)\n",
        "loader = Data.DataLoader(\n",
        "    dataset=torch_dataset,\n",
        "    batch_size=BATCH_SIZE,\n",
        "    shuffle=True,\n",
        "    num_workers=0,\n",
        ")"
      ]
    },
    {
      "cell_type": "code",
      "execution_count": 15,
      "metadata": {
        "id": "a__JH6-xjgjb"
      },
      "outputs": [],
      "source": [
        "# initialize NN weights\n",
        "for name, param in MyNet.named_parameters():\n",
        "  if(param.requires_grad):\n",
        "    torch.nn.init.normal_(param, mean=0.0, std=0.02)\n",
        "loss_func = torch.nn.CrossEntropyLoss()\n",
        "optimizer = torch.optim.Adam(MyNet.parameters(), lr=0.0003)"
      ]
    },
    {
      "cell_type": "code",
      "execution_count": 16,
      "metadata": {
        "colab": {
          "base_uri": "https://localhost:8080/"
        },
        "id": "v0K5uwlyjgjb",
        "outputId": "79ff6afb-1377-4363-8bec-b08d716acfce"
      },
      "outputs": [
        {
          "output_type": "stream",
          "name": "stdout",
          "text": [
            "200,400,600,800,1000,1200,1400,1600,1800,"
          ]
        }
      ],
      "source": [
        "# train NN\n",
        "epoch_lossLst=[]\n",
        "for epoch in range(1, 2000):\n",
        "  if(epoch%200 == 0):\n",
        "    print(epoch, end=\",\")\n",
        "  for (batchX, batchY) in loader:\n",
        "    batchY_hat = MyNet(batchX)\n",
        "    loss = loss_func(batchY_hat, batchY)\n",
        "    epoch_lossLst.append(float(loss))\n",
        "    optimizer.zero_grad()\n",
        "    loss.backward()\n",
        "    optimizer.step()\n",
        "\n",
        "  avg = sum(epoch_lossLst) / len(epoch_lossLst)\n",
        "  train_lossLst.append(avg)\n",
        "\n",
        "  with torch.no_grad():\n",
        "      tensor_validationY_hat = MyNet(tensor_validationX)\n",
        "      tensor_validationY = tensor_validationY.view(-1)\n",
        "      validatiion_loss = loss_func(tensor_validationY_hat, tensor_validationY)\n",
        "      validation_lossLst.append(float(validatiion_loss))"
      ]
    },
    {
      "cell_type": "code",
      "execution_count": 17,
      "metadata": {
        "colab": {
          "base_uri": "https://localhost:8080/",
          "height": 362
        },
        "id": "4nQJjxSajgjc",
        "outputId": "f377117a-fbe9-4ed4-8b30-f4075aaa59a6"
      },
      "outputs": [
        {
          "output_type": "display_data",
          "data": {
            "text/plain": [
              "<Figure size 1200x600 with 1 Axes>"
            ],
            "image/png": "[encoded data removed]"
          },
          "metadata": {}
        }
      ],
      "source": [
        "fig=plt.figure(figsize=(12, 6))\n",
        "plt.plot(train_lossLst, color='blue')\n",
        "plt.plot(validation_lossLst, color='orange')\n",
        "plt.show()"
      ]
    },
    {
      "cell_type": "code",
      "execution_count": 18,
      "metadata": {
        "colab": {
          "base_uri": "https://localhost:8080/"
        },
        "id": "8g8jXKsxjgjc",
        "outputId": "2f09582b-1406-4cf7-9f91-e22af2ee2f57"
      },
      "outputs": [
        {
          "output_type": "stream",
          "name": "stdout",
          "text": [
            "11-25-03-44-24\n"
          ]
        }
      ],
      "source": [
        "# save model of this training\n",
        "current_time = datetime.datetime.now()\n",
        "formatted_time = current_time.strftime(\"%m-%d-%H-%M-%S\")\n",
        "print(formatted_time)\n",
        "fname = formatted_time + \".pth\"\n",
        "torch.save(MyNet.state_dict(), fname)"
      ]
    },
    {
      "cell_type": "markdown",
      "metadata": {
        "id": "2wQsO0sJjgjc"
      },
      "source": [
        "### Mannually go back to train again --> observe train, validation loss --> train again..."
      ]
    },
    {
      "cell_type": "markdown",
      "metadata": {
        "id": "R6muzyk1jgjc"
      },
      "source": [
        "### After train several times, pick up the best model"
      ]
    },
    {
      "cell_type": "code",
      "execution_count": 19,
      "metadata": {
        "colab": {
          "base_uri": "https://localhost:8080/"
        },
        "id": "rRbaKfXijgjd",
        "outputId": "7ba39a3f-b5e4-4f79-85f0-a633f86c23a7"
      },
      "outputs": [
        {
          "output_type": "execute_result",
          "data": {
            "text/plain": [
              "<All keys matched successfully>"
            ]
          },
          "metadata": {},
          "execution_count": 19
        }
      ],
      "source": [
        "# Load the best model\n",
        "MyNet.load_state_dict(torch.load('11-25-03-44-24.pth'))"
      ]
    },
    {
      "cell_type": "code",
      "execution_count": 20,
      "metadata": {
        "colab": {
          "base_uri": "https://localhost:8080/"
        },
        "id": "PA2ThF3rjgjd",
        "outputId": "76bce23f-da4f-4281-9634-61fed986be96"
      },
      "outputs": [
        {
          "output_type": "execute_result",
          "data": {
            "text/plain": [
              "Sequential(\n",
              "  (0): Linear(in_features=13, out_features=128, bias=True)\n",
              "  (1): Tanh()\n",
              "  (2): Dropout(p=0.5, inplace=False)\n",
              "  (3): Linear(in_features=128, out_features=56, bias=True)\n",
              "  (4): Tanh()\n",
              "  (5): Dropout(p=0.5, inplace=False)\n",
              "  (6): Linear(in_features=56, out_features=3, bias=True)\n",
              ")"
            ]
          },
          "metadata": {},
          "execution_count": 20
        }
      ],
      "source": [
        "MyNet.eval()\n",
        "MyNet.to(device)"
      ]
    },
    {
      "cell_type": "code",
      "execution_count": 21,
      "metadata": {
        "id": "CEtE7CTyjgjd"
      },
      "outputs": [],
      "source": [
        "# Test to check generalized prediction performance\n",
        "tensor_testX = torch.FloatTensor(testX).to(device)\n",
        "tensor_testY = torch.LongTensor(testY).to(device)"
      ]
    },
    {
      "cell_type": "code",
      "execution_count": 22,
      "metadata": {
        "id": "_eqA6aCSjgjd"
      },
      "outputs": [],
      "source": [
        "tensor_testY_hat = MyNet(tensor_testX)\n",
        "tensor_testY_hat = torch.softmax(tensor_testY_hat, 1)\n",
        "MaxIdxOfEachRow = torch.max(tensor_testY_hat, 1)[1]"
      ]
    },
    {
      "cell_type": "code",
      "execution_count": 24,
      "metadata": {
        "id": "6BqFdkBXjgje"
      },
      "outputs": [],
      "source": [
        "conf_matrix = confusion_matrix(tensor_testY.cpu().numpy(), MaxIdxOfEachRow.cpu().numpy())"
      ]
    },
    {
      "cell_type": "code",
      "execution_count": 25,
      "metadata": {
        "colab": {
          "base_uri": "https://localhost:8080/",
          "height": 447
        },
        "id": "AvoYMnzojgje",
        "outputId": "925dde8e-d14e-403a-eafd-70f023b5c718"
      },
      "outputs": [
        {
          "output_type": "execute_result",
          "data": {
            "text/plain": [
              "<Axes: >"
            ]
          },
          "metadata": {},
          "execution_count": 25
        },
        {
          "output_type": "display_data",
          "data": {
            "text/plain": [
              "<Figure size 640x480 with 2 Axes>"
            ],
            "image/png": "[encoded data removed]"
          },
          "metadata": {}
        }
      ],
      "source": [
        "sns.heatmap(conf_matrix, annot=True, cmap='Blues', fmt='g')"
      ]
    },
    {
      "cell_type": "markdown",
      "metadata": {
        "id": "OyxcloALjgje"
      },
      "source": [
        "# Appendix\n",
        "Practice: Send a batch of input data to NN step by step"
      ]
    },
    {
      "cell_type": "code",
      "execution_count": 26,
      "metadata": {
        "id": "s6ZwaIqPjgjf"
      },
      "outputs": [],
      "source": [
        "# split training data to train and validation\n",
        "trainX, validationX, trainY, validationY = train_test_split(trainX, trainY, test_size=0.20, random_state=0)\n",
        "tensor_trainX = torch.FloatTensor(trainX).to(device)\n",
        "tensor_trainY = torch.LongTensor(trainY).to(device)"
      ]
    },
    {
      "cell_type": "code",
      "execution_count": 27,
      "metadata": {
        "id": "x1r2OSVVjgjf"
      },
      "outputs": [],
      "source": [
        "tensor_validationX = torch.FloatTensor(validationX).to(device)\n",
        "tensor_validationY = torch.LongTensor(validationY).to(device)"
      ]
    },
    {
      "cell_type": "code",
      "execution_count": 28,
      "metadata": {
        "id": "Jo_e2ndhjgjf"
      },
      "outputs": [],
      "source": [
        "BATCH_SIZE = 16   #try 1/10, of the training data"
      ]
    },
    {
      "cell_type": "code",
      "execution_count": 29,
      "metadata": {
        "id": "3p3MHiKojgjg"
      },
      "outputs": [],
      "source": [
        "# define data loader\n",
        "torch_dataset = Data.TensorDataset(tensor_trainX, tensor_trainY)\n",
        "loader = Data.DataLoader(\n",
        "    dataset=torch_dataset,\n",
        "    batch_size=BATCH_SIZE,\n",
        "    shuffle=True,\n",
        "    num_workers=0,\n",
        ")"
      ]
    },
    {
      "cell_type": "code",
      "execution_count": 30,
      "metadata": {
        "id": "DXKBwaIVjgjg"
      },
      "outputs": [],
      "source": [
        "# initialize NN weights\n",
        "for name, param in MyNet.named_parameters():\n",
        "  if(param.requires_grad):\n",
        "    torch.nn.init.normal_(param, mean=0.0, std=0.02)\n",
        "loss_func = torch.nn.CrossEntropyLoss()\n",
        "optimizer = torch.optim.Adam(MyNet.parameters(), lr=0.0003)"
      ]
    },
    {
      "cell_type": "code",
      "execution_count": 31,
      "metadata": {
        "colab": {
          "base_uri": "https://localhost:8080/"
        },
        "id": "wMxwuKngjgjg",
        "outputId": "fa1bd1ad-f759-4979-f458-22de5fac5a7e"
      },
      "outputs": [
        {
          "output_type": "stream",
          "name": "stdout",
          "text": [
            "torch.Size([16, 13]) tensor([1, 2, 2, 2, 2, 1, 2, 2, 0, 0, 1, 2, 1, 1, 0, 0], device='cuda:0')\n"
          ]
        }
      ],
      "source": [
        "for (batchX, batchY) in loader:\n",
        "    break\n",
        "print(batchX.shape, batchY)"
      ]
    },
    {
      "cell_type": "code",
      "execution_count": 32,
      "metadata": {
        "colab": {
          "base_uri": "https://localhost:8080/"
        },
        "id": "3LMq8maQjgjo",
        "outputId": "2e07ab54-bd6d-4f4e-c35e-fbe21783e814"
      },
      "outputs": [
        {
          "output_type": "stream",
          "name": "stdout",
          "text": [
            "tensor([[ 3.7742e-03,  5.3851e-03,  2.4600e-02],\n",
            "        [ 3.1486e-03,  3.9536e-03,  2.4503e-02],\n",
            "        [ 1.0376e-02,  4.6105e-04,  2.0388e-02],\n",
            "        [ 1.0327e-02, -1.9204e-05,  1.9866e-02],\n",
            "        [ 7.2599e-03,  2.2584e-03,  2.1583e-02],\n",
            "        [ 1.1476e-02, -6.4107e-04,  1.7379e-02],\n",
            "        [ 3.6649e-03,  3.2421e-03,  2.3691e-02],\n",
            "        [ 4.5479e-03,  2.9452e-03,  2.3003e-02],\n",
            "        [ 8.8621e-04,  5.9463e-03,  2.3705e-02],\n",
            "        [ 3.3502e-03,  9.6982e-03,  2.8676e-02],\n",
            "        [ 1.1931e-02, -1.5383e-03,  1.7329e-02],\n",
            "        [ 9.8912e-03,  7.9820e-04,  2.0595e-02],\n",
            "        [ 1.1152e-02, -2.6674e-03,  1.6350e-02],\n",
            "        [ 1.2753e-02,  1.4151e-03,  1.8533e-02],\n",
            "        [ 3.2723e-03,  1.0244e-02,  2.8418e-02],\n",
            "        [ 2.7440e-03,  9.4116e-03,  2.7135e-02]], device='cuda:0',\n",
            "       grad_fn=<AddmmBackward0>)\n"
          ]
        }
      ],
      "source": [
        "batchY_hat = MyNet(batchX)\n",
        "print(batchY_hat)"
      ]
    },
    {
      "cell_type": "code",
      "execution_count": 33,
      "metadata": {
        "colab": {
          "base_uri": "https://localhost:8080/"
        },
        "id": "qU2Y3wqFjgjo",
        "outputId": "cb0c567e-947a-4f58-c550-517913d621c3"
      },
      "outputs": [
        {
          "output_type": "stream",
          "name": "stdout",
          "text": [
            "tensor(1.0991, device='cuda:0', grad_fn=<NllLossBackward0>)\n"
          ]
        }
      ],
      "source": [
        "loss = loss_func(batchY_hat, batchY)\n",
        "print(loss)"
      ]
    },
    {
      "cell_type": "code",
      "execution_count": 34,
      "metadata": {
        "id": "2cuFh0cdjgjp"
      },
      "outputs": [],
      "source": [
        "optimizer.zero_grad()\n",
        "loss.backward()\n",
        "optimizer.step()"
      ]
    },
    {
      "cell_type": "markdown",
      "metadata": {
        "id": "V1M-nYasjgjp"
      },
      "source": []
    }
  ],
  "metadata": {
    "accelerator": "GPU",
    "colab": {
      "provenance": [],
      "include_colab_link": true
    },
    "kernelspec": {
      "display_name": "Python 3",
      "language": "python",
      "name": "python3"
    },
    "language_info": {
      "codemirror_mode": {
        "name": "ipython",
        "version": 3
      },
      "file_extension": ".py",
      "mimetype": "text/x-python",
      "name": "python",
      "nbconvert_exporter": "python",
      "pygments_lexer": "ipython3",
      "version": "3.10.11"
    }
  },
  "nbformat": 4,
  "nbformat_minor": 0
}