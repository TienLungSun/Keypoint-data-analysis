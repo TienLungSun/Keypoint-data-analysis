{
  "cells": [
    {
      "cell_type": "markdown",
      "metadata": {
        "id": "view-in-github",
        "colab_type": "text"
      },
      "source": [
        "<a href=\"https://colab.research.google.com/github/TienLungSun/Keypoint-data-analysis/blob/main/3_Classification_(new).ipynb\" target=\"_parent\"><img src=\"https://colab.research.google.com/assets/colab-badge.svg\" alt=\"Open In Colab\"/></a>"
      ]
    },
    {
      "cell_type": "code",
      "execution_count": 1,
      "metadata": {
        "id": "__UqpfWmZk_M"
      },
      "outputs": [],
      "source": [
        "import numpy as np\n",
        "import pandas as pd\n",
        "from sklearn.model_selection import train_test_split\n",
        "from sklearn.metrics import confusion_matrix\n",
        "import matplotlib.pyplot as plt\n",
        "import datetime\n",
        "import seaborn as sns"
      ]
    },
    {
      "cell_type": "code",
      "source": [
        "import torch\n",
        "import torch.nn as nn\n",
        "import torch.utils.data as Data"
      ],
      "metadata": {
        "id": "R5BZRnVVdeZE"
      },
      "execution_count": 2,
      "outputs": []
    },
    {
      "cell_type": "code",
      "execution_count": 3,
      "metadata": {
        "colab": {
          "base_uri": "https://localhost:8080/"
        },
        "id": "ABW0dcklZddi",
        "outputId": "fab2fad5-0fff-44c4-c865-2391bcb48dd5"
      },
      "outputs": [
        {
          "output_type": "stream",
          "name": "stdout",
          "text": [
            "cuda Tesla T4\n"
          ]
        }
      ],
      "source": [
        "if(torch.cuda.is_available()):\n",
        "    device = torch.device(\"cuda\")\n",
        "    print(device, torch.cuda.get_device_name(0))\n",
        "else:\n",
        "    device= torch.device(\"cpu\")\n",
        "    print(device)"
      ]
    },
    {
      "cell_type": "markdown",
      "metadata": {
        "id": "ho-Q5HWtdWU9"
      },
      "source": [
        "# Upload excel data file to Colab\n",
        "# Read data file to dataframe --> convert to numpy array"
      ]
    },
    {
      "cell_type": "code",
      "source": [
        "fname = \"wine_dataset_classification_practice.xlsx\"\n",
        "df=pd.read_excel(fname)"
      ],
      "metadata": {
        "id": "UYJylb6Vd7Sj"
      },
      "execution_count": 4,
      "outputs": []
    },
    {
      "cell_type": "code",
      "execution_count": 5,
      "metadata": {
        "colab": {
          "base_uri": "https://localhost:8080/"
        },
        "id": "6f5J7g26-3GK",
        "outputId": "2274f9ba-06f6-4632-b11d-06c5096cc6ca"
      },
      "outputs": [
        {
          "output_type": "execute_result",
          "data": {
            "text/plain": [
              "Index(['Feature_1', 'Feature_2', 'Feature_3', 'Feature_4', 'Feature_5',\n",
              "       'Feature_6', 'Feature_7', 'Feature_8', 'Feature_9', 'Feature_10',\n",
              "       'Feature_11', 'Feature_12', 'Feature_13', 'Target'],\n",
              "      dtype='object')"
            ]
          },
          "metadata": {},
          "execution_count": 5
        }
      ],
      "source": [
        "df.columns"
      ]
    },
    {
      "cell_type": "code",
      "execution_count": 7,
      "metadata": {
        "id": "SXs5l856-3Jf"
      },
      "outputs": [],
      "source": [
        "dfX = df[['Feature_1', 'Feature_2', 'Feature_3', 'Feature_4', 'Feature_5',\n",
        "       'Feature_6', 'Feature_7', 'Feature_8', 'Feature_9', 'Feature_10',\n",
        "       'Feature_11', 'Feature_12', 'Feature_13']]\n",
        "dfY = df['Target']"
      ]
    },
    {
      "cell_type": "code",
      "execution_count": 8,
      "metadata": {
        "colab": {
          "base_uri": "https://localhost:8080/"
        },
        "id": "uZurYc6p-3NK",
        "outputId": "ec8ff4f1-de3f-49ff-9e79-a959d6e71d9a"
      },
      "outputs": [
        {
          "output_type": "stream",
          "name": "stdout",
          "text": [
            "(178, 13) (178,)\n"
          ]
        }
      ],
      "source": [
        "#convert data to numpy array\n",
        "numpyX = np.array(dfX.values)\n",
        "numpyY = np.array(dfY.values)\n",
        "print(numpyX.shape, numpyY.shape)"
      ]
    },
    {
      "cell_type": "markdown",
      "metadata": {
        "id": "_E4EzPvy_ERK"
      },
      "source": [
        "# Split input data to train and test data"
      ]
    },
    {
      "cell_type": "code",
      "execution_count": 9,
      "metadata": {
        "colab": {
          "base_uri": "https://localhost:8080/"
        },
        "id": "5z2hMCAG_DgX",
        "outputId": "9a2f0434-2adb-4f2d-f01f-ff93995702b0"
      },
      "outputs": [
        {
          "output_type": "stream",
          "name": "stdout",
          "text": [
            "(142, 13) (36, 13) (142,) (36,)\n"
          ]
        }
      ],
      "source": [
        "trainX, testX, trainY, testY = train_test_split(numpyX, numpyY, test_size=0.20, random_state=0)\n",
        "print(trainX.shape, testX.shape, trainY.shape, testY.shape)"
      ]
    },
    {
      "cell_type": "markdown",
      "metadata": {
        "id": "86h5UOo6pLTc"
      },
      "source": [
        "# Define NN"
      ]
    },
    {
      "cell_type": "code",
      "execution_count": 10,
      "metadata": {
        "colab": {
          "base_uri": "https://localhost:8080/"
        },
        "id": "tZfGzjhKo7hU",
        "outputId": "d8d58f4b-dbcb-4a36-c9e5-a03b50092a16"
      },
      "outputs": [
        {
          "output_type": "execute_result",
          "data": {
            "text/plain": [
              "Sequential(\n",
              "  (0): Linear(in_features=13, out_features=128, bias=True)\n",
              "  (1): Tanh()\n",
              "  (2): Dropout(p=0.5, inplace=False)\n",
              "  (3): Linear(in_features=128, out_features=56, bias=True)\n",
              "  (4): Tanh()\n",
              "  (5): Dropout(p=0.5, inplace=False)\n",
              "  (6): Linear(in_features=56, out_features=3, bias=True)\n",
              ")"
            ]
          },
          "metadata": {},
          "execution_count": 10
        }
      ],
      "source": [
        "MyNet = nn.Sequential(\n",
        "    nn.Linear(13, 128),\n",
        "    nn.Tanh(),\n",
        "    nn.Dropout(p=0.5),\n",
        "    nn.Linear(128, 56),\n",
        "    nn.Tanh(),\n",
        "    nn.Dropout(p=0.5),\n",
        "    nn.Linear(56, 3),\n",
        ")\n",
        "MyNet.to(device)"
      ]
    },
    {
      "cell_type": "markdown",
      "metadata": {
        "id": "Z6k46RM6YKls"
      },
      "source": [
        "# Train NN"
      ]
    },
    {
      "cell_type": "code",
      "execution_count": 22,
      "metadata": {
        "id": "OPxsBg8edWVE"
      },
      "outputs": [],
      "source": [
        "train_lossLst = []\n",
        "validation_lossLst = []"
      ]
    },
    {
      "cell_type": "code",
      "execution_count": 23,
      "metadata": {
        "colab": {
          "base_uri": "https://localhost:8080/"
        },
        "id": "3YMr8B3MdWVF",
        "outputId": "4570358b-0120-46c9-8785-357a68abbee8"
      },
      "outputs": [
        {
          "output_type": "stream",
          "name": "stdout",
          "text": [
            "torch.Size([90, 13]) torch.Size([90]) torch.Size([23, 13]) torch.Size([23])\n"
          ]
        }
      ],
      "source": [
        "# split training data to train and validation\n",
        "trainX, validationX, trainY, validationY = train_test_split(trainX, trainY, test_size=0.20, random_state=0)\n",
        "tensor_trainX = torch.FloatTensor(trainX).to(device)\n",
        "tensor_trainY = torch.LongTensor(trainY).to(device)\n",
        "\n",
        "tensor_validationX = torch.FloatTensor(validationX).to(device)\n",
        "tensor_validationY = torch.LongTensor(validationY).to(device)\n",
        "\n",
        "print(tensor_trainX.shape, tensor_trainY.shape, tensor_validationX.shape, tensor_validationY.shape)"
      ]
    },
    {
      "cell_type": "code",
      "execution_count": 24,
      "metadata": {
        "id": "XQBBXSFjdWVG"
      },
      "outputs": [],
      "source": [
        "# define data loader\n",
        "BATCH_SIZE = 16   #try 1/5, 1/10, 1/15 of the training data\n",
        "torch_dataset = Data.TensorDataset(tensor_trainX, tensor_trainY)\n",
        "loader = Data.DataLoader(\n",
        "    dataset=torch_dataset,\n",
        "    batch_size=BATCH_SIZE,\n",
        "    shuffle=True,\n",
        "    num_workers=0,\n",
        ")"
      ]
    },
    {
      "cell_type": "code",
      "execution_count": 25,
      "metadata": {
        "id": "zGKl0x6ddWVG"
      },
      "outputs": [],
      "source": [
        "# initialize NN weights\n",
        "for name, param in MyNet.named_parameters():\n",
        "  if(param.requires_grad):\n",
        "    torch.nn.init.normal_(param, mean=0.0, std=0.02)\n",
        "loss_func = torch.nn.CrossEntropyLoss()\n",
        "optimizer = torch.optim.Adam(MyNet.parameters(), lr=0.00003)"
      ]
    },
    {
      "cell_type": "code",
      "execution_count": 26,
      "metadata": {
        "colab": {
          "base_uri": "https://localhost:8080/"
        },
        "id": "TK9b6lqadWVH",
        "outputId": "f9f9d079-1ce6-47b6-fd70-f6ca2d2c1882"
      },
      "outputs": [
        {
          "output_type": "stream",
          "name": "stdout",
          "text": [
            "100,200,300,400,"
          ]
        }
      ],
      "source": [
        "# training loop\n",
        "epoch_lossLst=[]\n",
        "for epoch in range(1, 500):\n",
        "  if(epoch%100 == 0):\n",
        "    print(epoch, end=\",\")\n",
        "  for (batchX, batchY) in loader:\n",
        "    batchY_hat = MyNet(batchX)\n",
        "    loss = loss_func(batchY_hat, batchY)\n",
        "    epoch_lossLst.append(float(loss))\n",
        "    optimizer.zero_grad()\n",
        "    loss.backward()\n",
        "    optimizer.step()\n",
        "\n",
        "  avg = sum(epoch_lossLst)/len(epoch_lossLst)\n",
        "  train_lossLst.append(avg)\n",
        "\n",
        "  with torch.no_grad():\n",
        "      tensor_validationY_hat = MyNet(tensor_validationX)\n",
        "      tensor_validationY = tensor_validationY.view(-1)\n",
        "      validatiion_loss = loss_func(tensor_validationY_hat, tensor_validationY)\n",
        "      validation_lossLst.append(float(validatiion_loss))"
      ]
    },
    {
      "cell_type": "code",
      "execution_count": 27,
      "metadata": {
        "colab": {
          "base_uri": "https://localhost:8080/",
          "height": 386
        },
        "id": "FMM86AqhdWVJ",
        "outputId": "8ffb4b1e-cebc-4003-8959-97f5056a318f"
      },
      "outputs": [
        {
          "output_type": "display_data",
          "data": {
            "text/plain": [
              "<Figure size 1200x600 with 1 Axes>"
            ],
            "image/png": "[encoded data removed]"
          },
          "metadata": {}
        }
      ],
      "source": [
        "fig=plt.figure(figsize=(12, 6))\n",
        "plt.plot(train_lossLst, color='blue')\n",
        "plt.plot(validation_lossLst, color='orange')\n",
        "plt.show()"
      ]
    },
    {
      "cell_type": "code",
      "execution_count": 28,
      "metadata": {
        "colab": {
          "base_uri": "https://localhost:8080/"
        },
        "id": "7bBfylwidWVI",
        "outputId": "f16c6b38-9dbd-4d94-8d98-8a547a8623ff"
      },
      "outputs": [
        {
          "output_type": "stream",
          "name": "stdout",
          "text": [
            "11-25-03-21-21\n"
          ]
        }
      ],
      "source": [
        "# save model of this training\n",
        "current_time = datetime.datetime.now()\n",
        "formatted_time = current_time.strftime(\"%m-%d-%H-%M-%S\")\n",
        "print(formatted_time)\n",
        "fname = formatted_time + \".pth\"\n",
        "torch.save(MyNet.state_dict(), fname)"
      ]
    },
    {
      "cell_type": "markdown",
      "metadata": {
        "id": "JADOuhD6dWVJ"
      },
      "source": [
        "### Mannually go back to train again --> observe train, validation loss --> train again..."
      ]
    },
    {
      "cell_type": "markdown",
      "metadata": {
        "id": "I-MTpz6fdWVJ"
      },
      "source": [
        "### After train several times, pick up the best model"
      ]
    },
    {
      "cell_type": "code",
      "execution_count": 29,
      "metadata": {
        "colab": {
          "base_uri": "https://localhost:8080/"
        },
        "id": "kkPVF0wgdWVK",
        "outputId": "35916327-b5ad-45f2-ffc7-0c9a2b836875"
      },
      "outputs": [
        {
          "output_type": "execute_result",
          "data": {
            "text/plain": [
              "<All keys matched successfully>"
            ]
          },
          "metadata": {},
          "execution_count": 29
        }
      ],
      "source": [
        "# Load the best model\n",
        "MyNet.load_state_dict(torch.load('11-25-03-21-21.pth'))"
      ]
    },
    {
      "cell_type": "code",
      "execution_count": 30,
      "metadata": {
        "colab": {
          "base_uri": "https://localhost:8080/"
        },
        "id": "y05sZnH-dWVK",
        "outputId": "ab5c08db-1e2c-47e5-f77c-b30c4d17826b"
      },
      "outputs": [
        {
          "output_type": "execute_result",
          "data": {
            "text/plain": [
              "Sequential(\n",
              "  (0): Linear(in_features=13, out_features=128, bias=True)\n",
              "  (1): Tanh()\n",
              "  (2): Dropout(p=0.5, inplace=False)\n",
              "  (3): Linear(in_features=128, out_features=56, bias=True)\n",
              "  (4): Tanh()\n",
              "  (5): Dropout(p=0.5, inplace=False)\n",
              "  (6): Linear(in_features=56, out_features=3, bias=True)\n",
              ")"
            ]
          },
          "metadata": {},
          "execution_count": 30
        }
      ],
      "source": [
        "MyNet.eval()\n",
        "MyNet.to(device)"
      ]
    },
    {
      "cell_type": "code",
      "execution_count": 31,
      "metadata": {
        "id": "4TGEOfXCdWVK"
      },
      "outputs": [],
      "source": [
        "tensor_testX = torch.FloatTensor(testX).to(device)\n",
        "tensor_testY = torch.LongTensor(testY).to(device)"
      ]
    },
    {
      "cell_type": "code",
      "execution_count": 32,
      "metadata": {
        "id": "SG-_pHMgdWVL"
      },
      "outputs": [],
      "source": [
        "tensor_testY_hat = MyNet(tensor_testX)\n",
        "tensor_testY_hat = torch.softmax(tensor_testY_hat, 1)\n",
        "MaxIdxOfEachRow = torch.max(tensor_testY_hat, 1)[1]"
      ]
    },
    {
      "cell_type": "code",
      "execution_count": 33,
      "metadata": {
        "id": "zKo0yCUZdWVL"
      },
      "outputs": [],
      "source": [
        "conf_matrix = confusion_matrix(tensor_testY.cpu().numpy(), MaxIdxOfEachRow.cpu().numpy())"
      ]
    },
    {
      "cell_type": "code",
      "execution_count": 34,
      "metadata": {
        "colab": {
          "base_uri": "https://localhost:8080/",
          "height": 447
        },
        "id": "bK4QRusLdWVL",
        "outputId": "3deabf46-6910-401a-9762-71b1d409f6d3"
      },
      "outputs": [
        {
          "output_type": "execute_result",
          "data": {
            "text/plain": [
              "<Axes: >"
            ]
          },
          "metadata": {},
          "execution_count": 34
        },
        {
          "output_type": "display_data",
          "data": {
            "text/plain": [
              "<Figure size 640x480 with 2 Axes>"
            ],
            "image/png": "[encoded data removed]"
          },
          "metadata": {}
        }
      ],
      "source": [
        "sns.heatmap(conf_matrix, annot=True, cmap='Blues', fmt='g')"
      ]
    },
    {
      "cell_type": "markdown",
      "metadata": {
        "id": "XK4ufs2hdWVM"
      },
      "source": [
        "# Appendix\n",
        "Practic sending a batch of input data to NN step by step"
      ]
    },
    {
      "cell_type": "code",
      "execution_count": 35,
      "metadata": {
        "id": "Tis-RKomdWVM"
      },
      "outputs": [],
      "source": [
        "# split training data to train and validation\n",
        "trainX, validationX, trainY, validationY = train_test_split(trainX, trainY, test_size=0.20, random_state=0)\n",
        "tensor_trainX = torch.FloatTensor(trainX).to(device)\n",
        "tensor_trainY = torch.LongTensor(trainY).to(device)"
      ]
    },
    {
      "cell_type": "code",
      "execution_count": 36,
      "metadata": {
        "id": "QjmHJxWCdWVM"
      },
      "outputs": [],
      "source": [
        "tensor_validationX = torch.FloatTensor(validationX).to(device)\n",
        "tensor_validationY = torch.LongTensor(validationY).to(device)"
      ]
    },
    {
      "cell_type": "code",
      "execution_count": 37,
      "metadata": {
        "id": "I3nHFroldWVN"
      },
      "outputs": [],
      "source": [
        "BATCH_SIZE = 16   #try 1/10, of the training data"
      ]
    },
    {
      "cell_type": "code",
      "execution_count": 38,
      "metadata": {
        "id": "UeQKoiJ2dWVN"
      },
      "outputs": [],
      "source": [
        "# define data loader\n",
        "torch_dataset = Data.TensorDataset(tensor_trainX, tensor_trainY)\n",
        "loader = Data.DataLoader(\n",
        "    dataset=torch_dataset,\n",
        "    batch_size=BATCH_SIZE,\n",
        "    shuffle=True,\n",
        "    num_workers=0,\n",
        ")"
      ]
    },
    {
      "cell_type": "code",
      "execution_count": 39,
      "metadata": {
        "id": "oXh-68qZdWVN"
      },
      "outputs": [],
      "source": [
        "# initialize NN weights\n",
        "for name, param in MyNet.named_parameters():\n",
        "  if(param.requires_grad):\n",
        "    torch.nn.init.normal_(param, mean=0.0, std=0.02)\n",
        "loss_func = torch.nn.CrossEntropyLoss()\n",
        "optimizer = torch.optim.Adam(MyNet.parameters(), lr=0.0003)"
      ]
    },
    {
      "cell_type": "code",
      "execution_count": 40,
      "metadata": {
        "colab": {
          "base_uri": "https://localhost:8080/"
        },
        "id": "G-ABGgefdWVO",
        "outputId": "9211c387-ed9c-4b6c-cd0f-51f39d39b488"
      },
      "outputs": [
        {
          "output_type": "stream",
          "name": "stdout",
          "text": [
            "torch.Size([16, 13]) tensor([0, 1, 0, 2, 1, 0, 1, 2, 1, 1, 1, 0, 1, 0, 1, 1], device='cuda:0')\n"
          ]
        }
      ],
      "source": [
        "for (batchX, batchY) in loader:\n",
        "    break\n",
        "print(batchX.shape, batchY)"
      ]
    },
    {
      "cell_type": "code",
      "execution_count": 41,
      "metadata": {
        "colab": {
          "base_uri": "https://localhost:8080/"
        },
        "id": "RClAentfdWVY",
        "outputId": "ead82ae6-a6e3-49c6-dbbf-ebff032563d7"
      },
      "outputs": [
        {
          "output_type": "stream",
          "name": "stdout",
          "text": [
            "tensor([[ 0.0686,  0.0141, -0.0175],\n",
            "        [ 0.0676,  0.0217, -0.0208],\n",
            "        [ 0.0681,  0.0149, -0.0173],\n",
            "        [ 0.0676,  0.0161, -0.0163],\n",
            "        [ 0.0676,  0.0192, -0.0204],\n",
            "        [ 0.0765,  0.0242, -0.0133],\n",
            "        [ 0.0627,  0.0222, -0.0171],\n",
            "        [ 0.0685,  0.0157, -0.0163],\n",
            "        [ 0.0673,  0.0176, -0.0159],\n",
            "        [ 0.0685,  0.0144, -0.0164],\n",
            "        [ 0.0672,  0.0159, -0.0164],\n",
            "        [ 0.0716,  0.0170, -0.0156],\n",
            "        [ 0.0683,  0.0148, -0.0175],\n",
            "        [ 0.0682,  0.0160, -0.0197],\n",
            "        [ 0.0686,  0.0149, -0.0164],\n",
            "        [ 0.0604,  0.0209, -0.0188]], device='cuda:0',\n",
            "       grad_fn=<AddmmBackward0>)\n"
          ]
        }
      ],
      "source": [
        "batchY_hat = MyNet(batchX)\n",
        "print(batchY_hat)"
      ]
    },
    {
      "cell_type": "code",
      "execution_count": 42,
      "metadata": {
        "colab": {
          "base_uri": "https://localhost:8080/"
        },
        "id": "Y7rIFeuLdWVZ",
        "outputId": "3f10af39-00ce-452c-d888-b6be86b348d8"
      },
      "outputs": [
        {
          "output_type": "stream",
          "name": "stdout",
          "text": [
            "tensor(1.0918, device='cuda:0', grad_fn=<NllLossBackward0>)\n"
          ]
        }
      ],
      "source": [
        "loss = loss_func(batchY_hat, batchY)\n",
        "print(loss)"
      ]
    },
    {
      "cell_type": "code",
      "execution_count": 43,
      "metadata": {
        "id": "z_6OASnydWVZ"
      },
      "outputs": [],
      "source": [
        "optimizer.zero_grad()\n",
        "loss.backward()\n",
        "optimizer.step()"
      ]
    },
    {
      "cell_type": "markdown",
      "metadata": {
        "id": "y6u42q86dWVa"
      },
      "source": []
    }
  ],
  "metadata": {
    "accelerator": "GPU",
    "colab": {
      "provenance": [],
      "include_colab_link": true
    },
    "kernelspec": {
      "display_name": "Python 3",
      "language": "python",
      "name": "python3"
    },
    "language_info": {
      "codemirror_mode": {
        "name": "ipython",
        "version": 3
      },
      "file_extension": ".py",
      "mimetype": "text/x-python",
      "name": "python",
      "nbconvert_exporter": "python",
      "pygments_lexer": "ipython3",
      "version": "3.10.11"
    }
  },
  "nbformat": 4,
  "nbformat_minor": 0
}